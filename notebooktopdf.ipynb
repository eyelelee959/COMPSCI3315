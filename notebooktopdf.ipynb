{
 "cells": [
  {
   "cell_type": "code",
   "execution_count": null,
   "metadata": {
    "id": "XOMrY0pgXVme"
   },
   "outputs": [],
   "source": [
    "from google.colab import drive\n",
    "drive.mount('/content/drive')"
   ]
  },
  {
   "cell_type": "markdown",
   "metadata": {
    "id": "fjTajpOjKRqy"
   },
   "source": [
    "Run some system commands that add packages to your Virtual Machine to enable conversion to pdf"
   ]
  },
  {
   "cell_type": "code",
   "execution_count": 1,
   "metadata": {
    "id": "AQkNfE8oEW7L"
   },
   "outputs": [
    {
     "name": "stderr",
     "output_type": "stream",
     "text": [
      "'sudo' is not recognized as an internal or external command,\n",
      "operable program or batch file.\n",
      "'sudo' is not recognized as an internal or external command,\n",
      "operable program or batch file.\n"
     ]
    }
   ],
   "source": [
    "!sudo apt-get update\n",
    "!sudo apt-get install texlive-xetex"
   ]
  },
  {
   "cell_type": "markdown",
   "metadata": {
    "id": "nCCVkwrEJs-o"
   },
   "source": [
    "Then run the command below (jupyter and the python program nbconvert should already be installed in your colab), making sure to change the filename (MyNotebook.ipynb) and if necessary the path (MyDrive/Colab\\ Notebooks/) to match your notebook. The commented version does not suppress the code and text cells."
   ]
  },
  {
   "cell_type": "code",
   "execution_count": null,
   "metadata": {
    "id": "AuTm16C2GLUA"
   },
   "outputs": [],
   "source": [
    "!jupyter nbconvert --to pdf --no-input --TagRemovePreprocessor.remove_cell_tags 'remove-cell' /content/drive/MyDrive/Colab\\ Notebooks/MyNotebook.ipynb\n",
    "#!jupyter nbconvert --to pdf /content/drive/MyDrive/Colab\\ Notebooks/MyNotebook.ipynb"
   ]
  }
 ],
 "metadata": {
  "colab": {
   "authorship_tag": "ABX9TyOyjqeK5Ir+tN58x/16MR64",
   "provenance": [
    {
     "file_id": "1jkrOLOai0d4NyaNZbXtS2DdsIQG4W26c",
     "timestamp": 1679888035155
    }
   ]
  },
  "kernelspec": {
   "display_name": "Python 3 (ipykernel)",
   "language": "python",
   "name": "python3"
  },
  "language_info": {
   "codemirror_mode": {
    "name": "ipython",
    "version": 3
   },
   "file_extension": ".py",
   "mimetype": "text/x-python",
   "name": "python",
   "nbconvert_exporter": "python",
   "pygments_lexer": "ipython3",
   "version": "3.9.13"
  }
 },
 "nbformat": 4,
 "nbformat_minor": 1
}
